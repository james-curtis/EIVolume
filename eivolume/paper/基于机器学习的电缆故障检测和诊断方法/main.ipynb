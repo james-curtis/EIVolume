{
 "cells": [
  {
   "cell_type": "code",
   "execution_count": 5,
   "metadata": {
    "collapsed": true,
    "ExecuteTime": {
     "end_time": "2023-05-13T12:45:44.483118100Z",
     "start_time": "2023-05-13T12:45:44.471157300Z"
    }
   },
   "outputs": [
    {
     "name": "stdout",
     "output_type": "stream",
     "text": [
      "['E:\\\\Program Files\\\\JetBrains\\\\PyCharm 2022.3.2\\\\plugins\\\\python\\\\helpers-pro\\\\jupyter_debug', 'E:\\\\Program Files\\\\JetBrains\\\\PyCharm 2022.3.2\\\\plugins\\\\python\\\\helpers\\\\pydev', 'E:\\\\Programing\\\\PycharmProjects\\\\EIVolume\\\\eivolume\\\\paper\\\\基于机器学习的电缆故障检测和诊断方法', 'E:\\\\Programing\\\\PycharmProjects\\\\EIVolume', 'D:\\\\Users\\\\win\\\\miniconda3\\\\envs\\\\model310\\\\python310.zip', 'D:\\\\Users\\\\win\\\\miniconda3\\\\envs\\\\model310\\\\DLLs', 'D:\\\\Users\\\\win\\\\miniconda3\\\\envs\\\\model310\\\\lib', 'D:\\\\Users\\\\win\\\\miniconda3\\\\envs\\\\model310', '', 'D:\\\\Users\\\\win\\\\miniconda3\\\\envs\\\\model310\\\\lib\\\\site-packages', 'D:\\\\Users\\\\win\\\\miniconda3\\\\envs\\\\model310\\\\lib\\\\site-packages\\\\win32', 'D:\\\\Users\\\\win\\\\miniconda3\\\\envs\\\\model310\\\\lib\\\\site-packages\\\\win32\\\\lib', 'D:\\\\Users\\\\win\\\\miniconda3\\\\envs\\\\model310\\\\lib\\\\site-packages\\\\Pythonwin']\n"
     ]
    }
   ],
   "source": [
    "import sys\n",
    "\n",
    "print(sys.path)"
   ]
  },
  {
   "cell_type": "code",
   "execution_count": 6,
   "outputs": [],
   "source": [
    "import pandas as pd\n",
    "import numpy as np\n",
    "import seaborn as sns\n",
    "import matplotlib.pyplot as plt\n",
    "from statsmodels.graphics.tsaplots import *\n",
    "\n",
    "plt.rcParams['font.sans-serif'] = ['SimHei']  # 黑体\n",
    "plt.rcParams['axes.unicode_minus'] = False  # 解决无法显示符号的问题\n",
    "palette = 'deep'\n",
    "sns.set(font='SimHei', font_scale=1.2, style='whitegrid', palette=palette)  # 解决Seaborn中文显示问题"
   ],
   "metadata": {
    "collapsed": false,
    "ExecuteTime": {
     "end_time": "2023-05-13T12:45:44.927170800Z",
     "start_time": "2023-05-13T12:45:44.918199400Z"
    }
   }
  },
  {
   "cell_type": "code",
   "execution_count": 2,
   "outputs": [],
   "source": [],
   "metadata": {
    "collapsed": false,
    "ExecuteTime": {
     "end_time": "2023-05-13T12:43:18.973573300Z",
     "start_time": "2023-05-13T12:43:18.960616700Z"
    }
   }
  }
 ],
 "metadata": {
  "kernelspec": {
   "display_name": "Python 3",
   "language": "python",
   "name": "python3"
  },
  "language_info": {
   "codemirror_mode": {
    "name": "ipython",
    "version": 2
   },
   "file_extension": ".py",
   "mimetype": "text/x-python",
   "name": "python",
   "nbconvert_exporter": "python",
   "pygments_lexer": "ipython2",
   "version": "2.7.6"
  }
 },
 "nbformat": 4,
 "nbformat_minor": 0
}
